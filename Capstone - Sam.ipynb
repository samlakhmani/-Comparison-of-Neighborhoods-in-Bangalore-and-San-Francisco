{
    "cells": [
        {
            "metadata": {
                "collapsed": true
            },
            "cell_type": "markdown",
            "source": "# Introduction\nThis project aims to compare the Neighborhoods of two cities that are Startup Capitals of their respective countries. For which we have chosen, Bangalore in India and, The Silicon Valley, San Francisco in United States of America. \nThe primary objective of this project is to help Startup offices in Bangalore on deciding a location in San Francisco to open a branch office. A lot of startup look to open office in The Silicone Valley, and we wish to provide them guidance via this project, by helping them find places similar to their current head office, in Bangalore.  \n"
        },
        {
            "metadata": {},
            "cell_type": "markdown",
            "source": "# Data Sources\n1.\tThe neighborhood data of the two cities is taken from Opencity and Wikipedia, respectively. This for which a are being shared bellow :\n        1. https://opencity.in/data/bbmp-wards\n        1. https://en.wikipedia.org/wiki/List_of_neighborhoods_in_San_Francisco\n    The data from open city is in a CSV formal while the data from Wikipedia will be required to be Scrapped before being used. Beautiful Soup library will be used to scrap the data from the Wikipedia page. \n    Bangalore has 199 neighbourhoods, and San Francisco has 114 neighbourhoods.\n1.\tGeopy library to be used for geocodes. \n1.\tFolium library will be utilized to represent the data on maps. \n1.\tScikit-learn will be used to utilize machine learning. \n1.\tFoursquare API will be used to gather neighborhood data.\n"
        },
        {
            "metadata": {},
            "cell_type": "markdown",
            "source": "# Importing Data\nImporting data is divided into 3 stages. \n   1. The first stage is getting list of neighbourhoods of the four cities from the above Wikipedia links. \n   1. The second stage is getting location of neighbourhoods. \n   1. The third stage is getting the venues in the neighbourhoods from Foursquare.\n\n## Neighbourhood lists of Cities\nWe already have the links of the Wikipedia pages from which we can get the list of neighbourhoods in each city. Beautiful Soup library is used to extract the information from the wikitables in the pages. This data is stored in a pandas dataframe. Along with the neighbourhoods, the city name, the state name and the country name are stored.\n\n## Geolocation of the Neighbourhoods\nThe geopy library is used to get the location data of the Neighbourhoods. Now in geopy library, Nominatim service is used. \nFor leveraging the free service of Nominatim there is a restriction of 1 call per sec. If the calls are within a second, then a \u2018timeout\u2019 error is displayed. Therefore, there needs to be an one sec gap between each call. A sufficient gap of 2 seconds is provided by calling the sleep function.\n\n### Timeout Errors\nEven after providing a 2 sec gap in calls, there are timeout errors. So, to handle these errors is simple. Simply call the Nominatim service again for these locations after checking for network connectivity.\n\n### Missing/No Coordinates\nDue to spelling errors in the name of some locations, it will not resolve into coordinates. These can be rectified by using different spellings. Some locations will not resolve despite that. Then that data is procured manually searching on Google Maps.\n"
        },
        {
            "metadata": {},
            "cell_type": "code",
            "source": "",
            "execution_count": null,
            "outputs": []
        }
    ],
    "metadata": {
        "kernelspec": {
            "name": "python3",
            "display_name": "Python 3.6",
            "language": "python"
        },
        "language_info": {
            "name": "python",
            "version": "3.6.9",
            "mimetype": "text/x-python",
            "codemirror_mode": {
                "name": "ipython",
                "version": 3
            },
            "pygments_lexer": "ipython3",
            "nbconvert_exporter": "python",
            "file_extension": ".py"
        }
    },
    "nbformat": 4,
    "nbformat_minor": 1
}